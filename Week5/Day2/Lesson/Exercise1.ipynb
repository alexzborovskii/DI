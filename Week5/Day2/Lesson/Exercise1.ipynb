{
 "cells": [
  {
   "cell_type": "code",
   "execution_count": 1,
   "id": "5dc1855b-c89d-4324-98d2-d9a70eeff99f",
   "metadata": {},
   "outputs": [],
   "source": [
    "import pandas as pd\n",
    "import numpy as np"
   ]
  },
  {
   "cell_type": "markdown",
   "id": "27ddea90-c6d4-416f-9434-92a416dd498c",
   "metadata": {},
   "source": [
    "# Exercise 1"
   ]
  },
  {
   "cell_type": "code",
   "execution_count": 2,
   "id": "3b7b6078-97cd-473d-aef6-b4acf5520284",
   "metadata": {},
   "outputs": [
    {
     "data": {
      "text/plain": [
       "apples      20\n",
       "bananas     30\n",
       "cherries    15\n",
       "dates       10\n",
       "dtype: int64"
      ]
     },
     "execution_count": 2,
     "metadata": {},
     "output_type": "execute_result"
    }
   ],
   "source": [
    "ds = pd.Series([20, 30, 15, 10], ['apples', 'bananas', 'cherries', 'dates'])\n",
    "ds"
   ]
  },
  {
   "cell_type": "markdown",
   "id": "fc42f726-94e4-44a5-ae8c-b6577a8ad3da",
   "metadata": {},
   "source": [
    "# Exercise 2"
   ]
  },
  {
   "cell_type": "code",
   "execution_count": 3,
   "id": "583751e4-6d60-4142-9d65-7f0cdce30334",
   "metadata": {},
   "outputs": [],
   "source": [
    "# df = pd.DataFrame({\n",
    "#     'Quantity': [20, 30, 15, 10],\n",
    "#     \"Color\": ['Red', 'Yellow', 'Red', 'Brown'],\n",
    "#     \"Price per \": [3, 2, 4, 5],\n",
    "# }), index = ds\n",
    "\n",
    "# df"
   ]
  },
  {
   "cell_type": "code",
   "execution_count": 4,
   "id": "b764c358-c250-41e7-ba2d-825b963ee573",
   "metadata": {},
   "outputs": [
    {
     "data": {
      "text/html": [
       "<div>\n",
       "<style scoped>\n",
       "    .dataframe tbody tr th:only-of-type {\n",
       "        vertical-align: middle;\n",
       "    }\n",
       "\n",
       "    .dataframe tbody tr th {\n",
       "        vertical-align: top;\n",
       "    }\n",
       "\n",
       "    .dataframe thead th {\n",
       "        text-align: right;\n",
       "    }\n",
       "</style>\n",
       "<table border=\"1\" class=\"dataframe\">\n",
       "  <thead>\n",
       "    <tr style=\"text-align: right;\">\n",
       "      <th></th>\n",
       "      <th>Quantity</th>\n",
       "      <th>Colors</th>\n",
       "      <th>price_per_kg</th>\n",
       "    </tr>\n",
       "  </thead>\n",
       "  <tbody>\n",
       "    <tr>\n",
       "      <th>Apples</th>\n",
       "      <td>20</td>\n",
       "      <td>red</td>\n",
       "      <td>3</td>\n",
       "    </tr>\n",
       "    <tr>\n",
       "      <th>banana</th>\n",
       "      <td>30</td>\n",
       "      <td>yellow</td>\n",
       "      <td>2</td>\n",
       "    </tr>\n",
       "    <tr>\n",
       "      <th>cherries</th>\n",
       "      <td>15</td>\n",
       "      <td>red</td>\n",
       "      <td>4</td>\n",
       "    </tr>\n",
       "    <tr>\n",
       "      <th>dates</th>\n",
       "      <td>10</td>\n",
       "      <td>brown</td>\n",
       "      <td>5</td>\n",
       "    </tr>\n",
       "  </tbody>\n",
       "</table>\n",
       "</div>"
      ],
      "text/plain": [
       "          Quantity  Colors  price_per_kg\n",
       "Apples          20     red             3\n",
       "banana          30  yellow             2\n",
       "cherries        15     red             4\n",
       "dates           10   brown             5"
      ]
     },
     "execution_count": 4,
     "metadata": {},
     "output_type": "execute_result"
    }
   ],
   "source": [
    "fruit_names = ['Apples', 'banana', 'cherries', 'dates']\n",
    "\n",
    "quantities = [20, 30, 15, 10]\n",
    "colors = ['red', 'yellow', 'red', 'brown']\n",
    "prices_per_kg = [3,2,4,5]\n",
    "my_df = pd.DataFrame({\n",
    "    'Quantity': quantities,\n",
    "    'Colors': colors,\n",
    "    'price_per_kg': prices_per_kg\n",
    "}, index = fruit_names)\n",
    "my_df"
   ]
  },
  {
   "cell_type": "code",
   "execution_count": null,
   "id": "7f510b9d-30e9-4928-8f7b-9bb4d7767144",
   "metadata": {},
   "outputs": [],
   "source": []
  },
  {
   "cell_type": "code",
   "execution_count": 5,
   "id": "fe8db970-de33-498b-9286-2df9bb979283",
   "metadata": {},
   "outputs": [
    {
     "data": {
      "text/plain": [
       "Quantity         20\n",
       "Colors          red\n",
       "price_per_kg      3\n",
       "Name: Apples, dtype: object"
      ]
     },
     "execution_count": 5,
     "metadata": {},
     "output_type": "execute_result"
    }
   ],
   "source": [
    "my_df.loc['Apples']"
   ]
  },
  {
   "cell_type": "code",
   "execution_count": 6,
   "id": "940eb428-3594-4633-a756-85e274ba8afe",
   "metadata": {},
   "outputs": [
    {
     "data": {
      "text/plain": [
       "Quantity            30\n",
       "Colors          yellow\n",
       "price_per_kg         2\n",
       "Name: banana, dtype: object"
      ]
     },
     "execution_count": 6,
     "metadata": {},
     "output_type": "execute_result"
    }
   ],
   "source": [
    "my_df.iloc[1]"
   ]
  },
  {
   "cell_type": "markdown",
   "id": "e7849ed2-a5c9-42f8-8e98-6985dec527f6",
   "metadata": {},
   "source": [
    "# Exercise 3"
   ]
  },
  {
   "cell_type": "code",
   "execution_count": 7,
   "id": "2541e3fc-b2a0-4fb1-980c-57bb05ddbee1",
   "metadata": {},
   "outputs": [],
   "source": [
    "my_df.to_csv('my_df.csv')"
   ]
  },
  {
   "cell_type": "markdown",
   "id": "3abc45cc-f76d-4a98-a64c-8ce74fe6720b",
   "metadata": {},
   "source": [
    "# Exercise 4"
   ]
  },
  {
   "cell_type": "code",
   "execution_count": 8,
   "id": "95c86cb9-d2f8-4a03-8634-acfaeaa0b8b0",
   "metadata": {},
   "outputs": [
    {
     "data": {
      "text/html": [
       "<div>\n",
       "<style scoped>\n",
       "    .dataframe tbody tr th:only-of-type {\n",
       "        vertical-align: middle;\n",
       "    }\n",
       "\n",
       "    .dataframe tbody tr th {\n",
       "        vertical-align: top;\n",
       "    }\n",
       "\n",
       "    .dataframe thead th {\n",
       "        text-align: right;\n",
       "    }\n",
       "</style>\n",
       "<table border=\"1\" class=\"dataframe\">\n",
       "  <thead>\n",
       "    <tr style=\"text-align: right;\">\n",
       "      <th></th>\n",
       "      <th>Quantity</th>\n",
       "      <th>Colors</th>\n",
       "      <th>price_per_kg</th>\n",
       "    </tr>\n",
       "  </thead>\n",
       "  <tbody>\n",
       "    <tr>\n",
       "      <th>Apples</th>\n",
       "      <td>20</td>\n",
       "      <td>red</td>\n",
       "      <td>3</td>\n",
       "    </tr>\n",
       "    <tr>\n",
       "      <th>banana</th>\n",
       "      <td>30</td>\n",
       "      <td>yellow</td>\n",
       "      <td>2</td>\n",
       "    </tr>\n",
       "    <tr>\n",
       "      <th>cherries</th>\n",
       "      <td>15</td>\n",
       "      <td>red</td>\n",
       "      <td>4</td>\n",
       "    </tr>\n",
       "    <tr>\n",
       "      <th>dates</th>\n",
       "      <td>10</td>\n",
       "      <td>brown</td>\n",
       "      <td>5</td>\n",
       "    </tr>\n",
       "  </tbody>\n",
       "</table>\n",
       "</div>"
      ],
      "text/plain": [
       "          Quantity  Colors  price_per_kg\n",
       "Apples          20     red             3\n",
       "banana          30  yellow             2\n",
       "cherries        15     red             4\n",
       "dates           10   brown             5"
      ]
     },
     "execution_count": 8,
     "metadata": {},
     "output_type": "execute_result"
    }
   ],
   "source": [
    "my_df_readed = pd.read_csv('my_df.csv', index_col=0)\n",
    "my_df_readed"
   ]
  },
  {
   "cell_type": "code",
   "execution_count": null,
   "id": "2c261c83-2290-4f4f-b546-38fcf842f3ff",
   "metadata": {},
   "outputs": [],
   "source": []
  }
 ],
 "metadata": {
  "kernelspec": {
   "display_name": "Python 3 (ipykernel)",
   "language": "python",
   "name": "python3"
  },
  "language_info": {
   "codemirror_mode": {
    "name": "ipython",
    "version": 3
   },
   "file_extension": ".py",
   "mimetype": "text/x-python",
   "name": "python",
   "nbconvert_exporter": "python",
   "pygments_lexer": "ipython3",
   "version": "3.11.3"
  }
 },
 "nbformat": 4,
 "nbformat_minor": 5
}
