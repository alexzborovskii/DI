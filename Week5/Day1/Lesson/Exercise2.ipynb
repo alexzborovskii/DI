{
 "cells": [
  {
   "cell_type": "code",
   "execution_count": 1,
   "id": "6bcf8946-d9be-4721-b421-1004fb0a8721",
   "metadata": {},
   "outputs": [],
   "source": [
    "import numpy as np"
   ]
  },
  {
   "cell_type": "markdown",
   "id": "9cbf48bc-41fc-494b-a8b5-2611ad407eee",
   "metadata": {},
   "source": [
    "# 1"
   ]
  },
  {
   "cell_type": "code",
   "execution_count": 2,
   "id": "573b6333-f8aa-4f82-8d73-6b31de53d901",
   "metadata": {},
   "outputs": [
    {
     "data": {
      "text/plain": [
       "array([10, 11, 12, 13, 14, 15, 16, 17, 18, 19, 20])"
      ]
     },
     "execution_count": 2,
     "metadata": {},
     "output_type": "execute_result"
    }
   ],
   "source": [
    "array1 = np.arange(10, 21)\n",
    "array1"
   ]
  },
  {
   "cell_type": "code",
   "execution_count": 4,
   "id": "ba7ee9bf-c18b-459b-b415-5f7e9c8c804e",
   "metadata": {},
   "outputs": [
    {
     "data": {
      "text/plain": [
       "13"
      ]
     },
     "execution_count": 4,
     "metadata": {},
     "output_type": "execute_result"
    }
   ],
   "source": [
    "array1[3]"
   ]
  },
  {
   "cell_type": "markdown",
   "id": "51139ddb-ef85-4518-b765-c089f18900cc",
   "metadata": {},
   "source": [
    "# 2"
   ]
  },
  {
   "cell_type": "code",
   "execution_count": 5,
   "id": "9f15357c-c1da-426e-b303-dfcc780a42a2",
   "metadata": {},
   "outputs": [],
   "source": [
    "#array_2d = np.array([[1, 2, 3], [4, 5, 6], [7, 8, 9]])"
   ]
  },
  {
   "cell_type": "code",
   "execution_count": 18,
   "id": "8ed09ad5-af21-488b-8173-0d4646803256",
   "metadata": {},
   "outputs": [
    {
     "data": {
      "text/plain": [
       "array([1, 2, 3, 4, 5, 6, 7, 8, 9])"
      ]
     },
     "execution_count": 18,
     "metadata": {},
     "output_type": "execute_result"
    }
   ],
   "source": [
    "array2_1dim = np.arange(1, 10)\n",
    "array2_1dim"
   ]
  },
  {
   "cell_type": "code",
   "execution_count": 19,
   "id": "7ce656f2-b2ae-43cd-b182-9885d5a9972b",
   "metadata": {},
   "outputs": [
    {
     "data": {
      "text/plain": [
       "array([[1, 2, 3],\n",
       "       [4, 5, 6],\n",
       "       [7, 8, 9]])"
      ]
     },
     "execution_count": 19,
     "metadata": {},
     "output_type": "execute_result"
    }
   ],
   "source": [
    "array2_2dim = array2_1dim.reshape(3, 3)\n",
    "array2_2dim"
   ]
  },
  {
   "cell_type": "code",
   "execution_count": 11,
   "id": "7833bb3c-1976-489f-ba9b-47d738b23080",
   "metadata": {},
   "outputs": [
    {
     "data": {
      "text/plain": [
       "6"
      ]
     },
     "execution_count": 11,
     "metadata": {},
     "output_type": "execute_result"
    }
   ],
   "source": [
    "array2_2dim[1, 2]"
   ]
  },
  {
   "cell_type": "markdown",
   "id": "135ad723-6901-4d3d-ab0b-9eb4da7566a8",
   "metadata": {},
   "source": [
    "# 3"
   ]
  },
  {
   "cell_type": "code",
   "execution_count": 13,
   "id": "e202af04-8d6a-4c5f-afdb-ba7e7334a61f",
   "metadata": {},
   "outputs": [
    {
     "data": {
      "text/plain": [
       "array([0, 1, 2, 3, 4, 5, 6, 7, 8, 9])"
      ]
     },
     "execution_count": 13,
     "metadata": {},
     "output_type": "execute_result"
    }
   ],
   "source": [
    "array3 = np.arange(0, 10)\n",
    "array3"
   ]
  },
  {
   "cell_type": "code",
   "execution_count": 15,
   "id": "e5b6184a-2bc0-41ff-a58e-f9b7b7349c11",
   "metadata": {},
   "outputs": [
    {
     "data": {
      "text/plain": [
       "array([2, 3, 4, 5])"
      ]
     },
     "execution_count": 15,
     "metadata": {},
     "output_type": "execute_result"
    }
   ],
   "source": [
    "array3[2:6]"
   ]
  },
  {
   "cell_type": "markdown",
   "id": "baea4c6a-8ae4-4fa5-bcfa-d63e5ebb51d9",
   "metadata": {},
   "source": [
    "# 4"
   ]
  },
  {
   "cell_type": "code",
   "execution_count": 17,
   "id": "7e8a6b7d-585f-459f-a8ca-5d38e63a2b70",
   "metadata": {},
   "outputs": [
    {
     "data": {
      "text/plain": [
       "array([[1, 2, 3],\n",
       "       [4, 5, 6],\n",
       "       [7, 8, 9]])"
      ]
     },
     "execution_count": 17,
     "metadata": {},
     "output_type": "execute_result"
    }
   ],
   "source": [
    "array4 = np.arange(1, 10)\n",
    "array4 = array2_1dim.reshape(3, 3)\n",
    "array4\n"
   ]
  },
  {
   "cell_type": "code",
   "execution_count": 25,
   "id": "e3f8c0d7-ff25-4c5c-a02a-3ad144dde54c",
   "metadata": {},
   "outputs": [
    {
     "data": {
      "text/plain": [
       "array([[2, 3],\n",
       "       [5, 6]])"
      ]
     },
     "execution_count": 25,
     "metadata": {},
     "output_type": "execute_result"
    }
   ],
   "source": [
    "array4[:2, -2:]"
   ]
  },
  {
   "cell_type": "code",
   "execution_count": null,
   "id": "bc1e2eeb-ad83-4565-85aa-1b0105c33693",
   "metadata": {},
   "outputs": [],
   "source": []
  }
 ],
 "metadata": {
  "kernelspec": {
   "display_name": "Python 3 (ipykernel)",
   "language": "python",
   "name": "python3"
  },
  "language_info": {
   "codemirror_mode": {
    "name": "ipython",
    "version": 3
   },
   "file_extension": ".py",
   "mimetype": "text/x-python",
   "name": "python",
   "nbconvert_exporter": "python",
   "pygments_lexer": "ipython3",
   "version": "3.11.3"
  }
 },
 "nbformat": 4,
 "nbformat_minor": 5
}
