{
 "cells": [
  {
   "cell_type": "code",
   "execution_count": 1,
   "id": "201dd8cc-4846-42ab-b9cd-30623c65d667",
   "metadata": {},
   "outputs": [],
   "source": [
    "import numpy as np"
   ]
  },
  {
   "cell_type": "code",
   "execution_count": null,
   "id": "9aafd1f0-43db-44b9-aab6-138963640cd7",
   "metadata": {},
   "outputs": [],
   "source": []
  },
  {
   "cell_type": "code",
   "execution_count": null,
   "id": "b59bb676-64c6-4466-85d6-e557744d31df",
   "metadata": {},
   "outputs": [],
   "source": []
  },
  {
   "cell_type": "code",
   "execution_count": null,
   "id": "1d607abd-e486-422a-92b6-a3193c188ecc",
   "metadata": {},
   "outputs": [],
   "source": []
  },
  {
   "cell_type": "code",
   "execution_count": 2,
   "id": "a701bdf1-0629-472f-a242-a05bad6370aa",
   "metadata": {},
   "outputs": [],
   "source": [
    "one_dim_array = np.arange(11)"
   ]
  },
  {
   "cell_type": "code",
   "execution_count": 3,
   "id": "49ba49d3-324a-4378-8444-c55e3216171b",
   "metadata": {},
   "outputs": [
    {
     "data": {
      "text/plain": [
       "array([ 0,  1,  2,  3,  4,  5,  6,  7,  8,  9, 10])"
      ]
     },
     "execution_count": 3,
     "metadata": {},
     "output_type": "execute_result"
    }
   ],
   "source": [
    "one_dim_array"
   ]
  },
  {
   "cell_type": "code",
   "execution_count": 4,
   "id": "51c8f78f-4045-48a7-aadb-e5d4d18eb2d3",
   "metadata": {},
   "outputs": [
    {
     "data": {
      "text/plain": [
       "0"
      ]
     },
     "execution_count": 4,
     "metadata": {},
     "output_type": "execute_result"
    }
   ],
   "source": [
    "one_dim_array[0]"
   ]
  },
  {
   "cell_type": "code",
   "execution_count": 5,
   "id": "2ec102c4-448f-4261-92fb-e346321c0650",
   "metadata": {},
   "outputs": [
    {
     "data": {
      "text/plain": [
       "10"
      ]
     },
     "execution_count": 5,
     "metadata": {},
     "output_type": "execute_result"
    }
   ],
   "source": [
    "one_dim_array[-1]"
   ]
  },
  {
   "cell_type": "code",
   "execution_count": 8,
   "id": "788e32b1-a0ee-46dd-9398-d5faf3f8a11e",
   "metadata": {},
   "outputs": [
    {
     "data": {
      "text/plain": [
       "array([ 2,  4,  6,  8, 10])"
      ]
     },
     "execution_count": 8,
     "metadata": {},
     "output_type": "execute_result"
    }
   ],
   "source": [
    "one_dim_array[2::2]"
   ]
  },
  {
   "cell_type": "markdown",
   "id": "b00b52ee-0c78-4c8e-bcbc-fca001cf7068",
   "metadata": {},
   "source": [
    "## 2 dim array"
   ]
  },
  {
   "cell_type": "code",
   "execution_count": 10,
   "id": "95679bc8-be0e-49d8-9675-f38200f487d8",
   "metadata": {},
   "outputs": [
    {
     "data": {
      "text/plain": [
       "array([0, 1, 2, 3, 4, 5, 6, 7, 8, 9])"
      ]
     },
     "execution_count": 10,
     "metadata": {},
     "output_type": "execute_result"
    }
   ],
   "source": [
    "two_dim_array = np.arange(10)\n",
    "two_dim_array"
   ]
  },
  {
   "cell_type": "code",
   "execution_count": 15,
   "id": "a571d57e-7735-4661-bde1-74d8192e17dc",
   "metadata": {},
   "outputs": [],
   "source": [
    "two_dim_array = two_dim_array.reshape((5, 2))"
   ]
  },
  {
   "cell_type": "code",
   "execution_count": 16,
   "id": "b0f37019-6efc-4adc-a601-3b007478592c",
   "metadata": {},
   "outputs": [
    {
     "data": {
      "text/plain": [
       "array([2, 3])"
      ]
     },
     "execution_count": 16,
     "metadata": {},
     "output_type": "execute_result"
    }
   ],
   "source": [
    "two_dim_array[1]"
   ]
  },
  {
   "cell_type": "code",
   "execution_count": 17,
   "id": "188ba6e3-0754-4657-a263-fa2dd08bd4f8",
   "metadata": {},
   "outputs": [
    {
     "data": {
      "text/plain": [
       "array([[2, 3],\n",
       "       [4, 5]])"
      ]
     },
     "execution_count": 17,
     "metadata": {},
     "output_type": "execute_result"
    }
   ],
   "source": [
    "two_dim_array[1:3]"
   ]
  },
  {
   "cell_type": "code",
   "execution_count": 18,
   "id": "0c7368e0-12fb-4b4d-8d04-9241dca2a124",
   "metadata": {},
   "outputs": [
    {
     "data": {
      "text/plain": [
       "array([2, 4])"
      ]
     },
     "execution_count": 18,
     "metadata": {},
     "output_type": "execute_result"
    }
   ],
   "source": [
    "two_dim_array[1:3, 0]"
   ]
  },
  {
   "cell_type": "code",
   "execution_count": 19,
   "id": "be78d7dd-ac22-47eb-9bec-2dfe137de80a",
   "metadata": {},
   "outputs": [
    {
     "data": {
      "text/plain": [
       "array([[8, 9],\n",
       "       [6, 7],\n",
       "       [4, 5],\n",
       "       [2, 3],\n",
       "       [0, 1]])"
      ]
     },
     "execution_count": 19,
     "metadata": {},
     "output_type": "execute_result"
    }
   ],
   "source": [
    "two_dim_array[::-1]"
   ]
  },
  {
   "cell_type": "code",
   "execution_count": 20,
   "id": "8fff67af-c0f8-4fa7-ae75-f023a3b2a14d",
   "metadata": {},
   "outputs": [
    {
     "data": {
      "text/plain": [
       "array([[9],\n",
       "       [7],\n",
       "       [5],\n",
       "       [3],\n",
       "       [1]])"
      ]
     },
     "execution_count": 20,
     "metadata": {},
     "output_type": "execute_result"
    }
   ],
   "source": [
    "two_dim_array[ ::-1, ::-2]"
   ]
  },
  {
   "cell_type": "code",
   "execution_count": null,
   "id": "f2b3dd6d-45ef-448f-b809-58ceb77b2b0e",
   "metadata": {},
   "outputs": [],
   "source": []
  }
 ],
 "metadata": {
  "kernelspec": {
   "display_name": "Python 3 (ipykernel)",
   "language": "python",
   "name": "python3"
  },
  "language_info": {
   "codemirror_mode": {
    "name": "ipython",
    "version": 3
   },
   "file_extension": ".py",
   "mimetype": "text/x-python",
   "name": "python",
   "nbconvert_exporter": "python",
   "pygments_lexer": "ipython3",
   "version": "3.11.3"
  }
 },
 "nbformat": 4,
 "nbformat_minor": 5
}
