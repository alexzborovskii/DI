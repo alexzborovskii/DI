{
 "cells": [
  {
   "cell_type": "code",
   "execution_count": 1,
   "id": "fc25d8ac-b562-40bd-8e65-17df9266af6a",
   "metadata": {},
   "outputs": [],
   "source": [
    "import numpy as np"
   ]
  },
  {
   "cell_type": "code",
   "execution_count": 2,
   "id": "7f97f9d2-e1e5-442b-96d5-72109a30a560",
   "metadata": {},
   "outputs": [],
   "source": [
    "data = np.array(np.random.randint(1, 100, size=25)).reshape(5,5)"
   ]
  },
  {
   "cell_type": "code",
   "execution_count": 3,
   "id": "1ef1e519-a04e-4e45-bacb-3f2b87ef12f5",
   "metadata": {},
   "outputs": [
    {
     "data": {
      "text/plain": [
       "array([[43, 54, 48, 13, 98],\n",
       "       [42, 27, 23, 31, 51],\n",
       "       [51, 33, 22, 71, 57],\n",
       "       [85,  7, 58, 15, 36],\n",
       "       [56, 82, 55, 86, 11]])"
      ]
     },
     "execution_count": 3,
     "metadata": {},
     "output_type": "execute_result"
    }
   ],
   "source": [
    "data"
   ]
  },
  {
   "cell_type": "markdown",
   "id": "8715b6dc-ce00-41c9-80da-30ffad7d221a",
   "metadata": {},
   "source": [
    "# 1 Matrix manipulation"
   ]
  },
  {
   "cell_type": "code",
   "execution_count": 5,
   "id": "c9b990f3-0d14-4a1f-a306-de53337d99e3",
   "metadata": {},
   "outputs": [],
   "source": [
    "data[[1, 3]] = data[[3, 1]]"
   ]
  },
  {
   "cell_type": "code",
   "execution_count": 6,
   "id": "0298b8d6-3426-4d4d-9b36-4d1205c4ded1",
   "metadata": {},
   "outputs": [
    {
     "data": {
      "text/plain": [
       "array([[43, 54, 48, 13, 98],\n",
       "       [85,  7, 58, 15, 36],\n",
       "       [51, 33, 22, 71, 57],\n",
       "       [42, 27, 23, 31, 51],\n",
       "       [56, 82, 55, 86, 11]])"
      ]
     },
     "execution_count": 6,
     "metadata": {},
     "output_type": "execute_result"
    }
   ],
   "source": [
    "data"
   ]
  },
  {
   "cell_type": "markdown",
   "id": "cc7e2de9-1227-4a94-8876-efdfc9a6be95",
   "metadata": {},
   "source": [
    "# 2 Normalization"
   ]
  },
  {
   "cell_type": "code",
   "execution_count": 12,
   "id": "65de2309-3be8-42f3-8b2a-eac73da7fee9",
   "metadata": {},
   "outputs": [
    {
     "data": {
      "text/plain": [
       "array([[0.3956044 , 0.51648352, 0.45054945, 0.06593407, 1.        ],\n",
       "       [0.85714286, 0.        , 0.56043956, 0.08791209, 0.31868132],\n",
       "       [0.48351648, 0.28571429, 0.16483516, 0.7032967 , 0.54945055],\n",
       "       [0.38461538, 0.21978022, 0.17582418, 0.26373626, 0.48351648],\n",
       "       [0.53846154, 0.82417582, 0.52747253, 0.86813187, 0.04395604]])"
      ]
     },
     "execution_count": 12,
     "metadata": {},
     "output_type": "execute_result"
    }
   ],
   "source": [
    "data_norm = (data - np.min(data)) / (np.max(data) - np.min(data))\n",
    "data_norm"
   ]
  },
  {
   "cell_type": "markdown",
   "id": "35f768da-7b01-48c2-b686-802fbd5fd13c",
   "metadata": {},
   "source": [
    "# 3 Z-score normalization"
   ]
  },
  {
   "cell_type": "code",
   "execution_count": 13,
   "id": "628dc876-3bd6-4a67-8621-b32740d9a0dd",
   "metadata": {},
   "outputs": [
    {
     "data": {
      "text/plain": [
       "array([[-0.13024929,  0.31748264,  0.07326523, -1.35133638,  2.10841037],\n",
       "       [ 1.57927263, -1.5955538 ,  0.48029425, -1.26993057, -0.41516961],\n",
       "       [ 0.19537393, -0.53727832, -0.98501025,  1.00943199,  0.43959135],\n",
       "       [-0.17095219, -0.78149574, -0.94430735, -0.61868412,  0.19537393],\n",
       "       [ 0.39888845,  1.45716393,  0.35818555,  1.61997554, -1.43274218]])"
      ]
     },
     "execution_count": 13,
     "metadata": {},
     "output_type": "execute_result"
    }
   ],
   "source": [
    "data_z = (data - np.mean(data)) / np.std(data)\n",
    "data_z"
   ]
  },
  {
   "cell_type": "markdown",
   "id": "c4700f7f-3894-41f8-8e8f-3e5857d800b5",
   "metadata": {},
   "source": [
    "# 4 Array splitting"
   ]
  },
  {
   "cell_type": "code",
   "execution_count": 15,
   "id": "10095864-4313-4aab-add6-ac1e84fbb667",
   "metadata": {},
   "outputs": [
    {
     "data": {
      "text/plain": [
       "array([43, 54, 48, 13, 98, 85,  7, 58, 15, 36, 51, 33, 22, 71, 57, 42, 27,\n",
       "       23, 31, 51, 56, 82, 55, 86, 11])"
      ]
     },
     "execution_count": 15,
     "metadata": {},
     "output_type": "execute_result"
    }
   ],
   "source": [
    "splitted_data = np.ravel(data)\n",
    "splitted_data"
   ]
  },
  {
   "cell_type": "code",
   "execution_count": 16,
   "id": "bba4398e-e963-4f82-ac60-e32f2df97e82",
   "metadata": {},
   "outputs": [
    {
     "data": {
      "text/plain": [
       "[array([43, 54, 48, 13, 98]),\n",
       " array([85,  7, 58, 15, 36]),\n",
       " array([51, 33, 22, 71, 57]),\n",
       " array([42, 27, 23, 31, 51]),\n",
       " array([56, 82, 55, 86, 11])]"
      ]
     },
     "execution_count": 16,
     "metadata": {},
     "output_type": "execute_result"
    }
   ],
   "source": [
    "connected_data = np.split(splitted_data, 5)\n",
    "connected_data"
   ]
  },
  {
   "cell_type": "markdown",
   "id": "cdfbdc37-ca3d-4f35-b318-fb473a11ac0d",
   "metadata": {},
   "source": [
    "# 5 Dot product"
   ]
  },
  {
   "cell_type": "code",
   "execution_count": 17,
   "id": "efc724b0-f6a0-41e7-af8f-aeade96b154c",
   "metadata": {},
   "outputs": [
    {
     "data": {
      "text/plain": [
       "array([32, 33, 77, 21, 50])"
      ]
     },
     "execution_count": 17,
     "metadata": {},
     "output_type": "execute_result"
    }
   ],
   "source": [
    "vector5_1 = np.random.randint(0, 100, 5)\n",
    "vector5_1"
   ]
  },
  {
   "cell_type": "code",
   "execution_count": 18,
   "id": "c8ec78cd-ed3e-4b32-b8bc-4c78dfbc1a9c",
   "metadata": {},
   "outputs": [
    {
     "data": {
      "text/plain": [
       "array([83, 11, 43, 31, 37])"
      ]
     },
     "execution_count": 18,
     "metadata": {},
     "output_type": "execute_result"
    }
   ],
   "source": [
    "vector5_2 = np.random.randint(0, 100, 5)\n",
    "vector5_2"
   ]
  },
  {
   "cell_type": "code",
   "execution_count": 19,
   "id": "e7e2e29a-6575-4d50-afe4-40c6ffbf93e1",
   "metadata": {},
   "outputs": [
    {
     "data": {
      "text/plain": [
       "8831"
      ]
     },
     "execution_count": 19,
     "metadata": {},
     "output_type": "execute_result"
    }
   ],
   "source": [
    "vectors_dot = np.dot(vector5_1, vector5_2)\n",
    "vectors_dot"
   ]
  },
  {
   "cell_type": "markdown",
   "id": "601042cb-b29e-4e7d-8e77-207d84d2b38d",
   "metadata": {},
   "source": [
    "# 6 rix multiplication"
   ]
  },
  {
   "cell_type": "code",
   "execution_count": 20,
   "id": "232a405b-113b-40b8-b653-1f274bf018f4",
   "metadata": {},
   "outputs": [
    {
     "data": {
      "text/plain": [
       "array([[452,  84,  70],\n",
       "       [460, 175, 549],\n",
       "       [218, 360, 831]])"
      ]
     },
     "execution_count": 20,
     "metadata": {},
     "output_type": "execute_result"
    }
   ],
   "source": [
    "data2 = np.random.randint(0, 1000, 9).reshape(3, 3)\n",
    "data2"
   ]
  },
  {
   "cell_type": "code",
   "execution_count": 30,
   "id": "99b9bae6-d8f3-4948-b600-5f906f234cb9",
   "metadata": {},
   "outputs": [
    {
     "data": {
      "text/plain": [
       "array([[54740, 30342, 72544],\n",
       "       [54284, 29245, 57991],\n",
       "       [43028, 17979, 39969]])"
      ]
     },
     "execution_count": 30,
     "metadata": {},
     "output_type": "execute_result"
    }
   ],
   "source": [
    "data_mult = np.dot(data[0:3, 0:3], data2)\n",
    "data_mult"
   ]
  },
  {
   "cell_type": "markdown",
   "id": "ec33ff2c-a496-4533-b8d0-480b790f05a7",
   "metadata": {},
   "source": [
    "# 7 Inverse of a matrix"
   ]
  },
  {
   "cell_type": "code",
   "execution_count": 34,
   "id": "e9e4c899-03e6-449d-a942-6f9132918428",
   "metadata": {},
   "outputs": [
    {
     "data": {
      "text/plain": [
       "array([[2., 0., 0.],\n",
       "       [0., 2., 0.],\n",
       "       [0., 0., 2.]])"
      ]
     },
     "execution_count": 34,
     "metadata": {},
     "output_type": "execute_result"
    }
   ],
   "source": [
    "ident_matrix = np.eye(3)\n",
    "double_ident = ident_matrix * 2\n",
    "double_ident"
   ]
  },
  {
   "cell_type": "code",
   "execution_count": 37,
   "id": "4e2ef2fb-3ea4-42dd-b11f-341d787c6810",
   "metadata": {},
   "outputs": [
    {
     "data": {
      "text/plain": [
       "array([[0.5, 0. , 0. ],\n",
       "       [0. , 0.5, 0. ],\n",
       "       [0. , 0. , 0.5]])"
      ]
     },
     "execution_count": 37,
     "metadata": {},
     "output_type": "execute_result"
    }
   ],
   "source": [
    "inv_double_ident = np.linalg.inv(double_ident)\n",
    "inv_double_ident"
   ]
  },
  {
   "cell_type": "markdown",
   "id": "65a1652f-99d0-4aff-9995-6e732ab7e20a",
   "metadata": {},
   "source": [
    "# 8 Eigenvalues and eigenvectors"
   ]
  },
  {
   "cell_type": "code",
   "execution_count": 40,
   "id": "cfcb86f9-778e-4de8-917f-d7b1cc623298",
   "metadata": {},
   "outputs": [],
   "source": [
    "res8 = np.linalg.eig(data[:3, :3])"
   ]
  },
  {
   "cell_type": "code",
   "execution_count": 41,
   "id": "e5943001-bcfd-44f6-a2b4-bd7dd1fdfa2b",
   "metadata": {},
   "outputs": [
    {
     "data": {
      "text/plain": [
       "array([133.96808645, -45.45003687, -16.51804958])"
      ]
     },
     "execution_count": 41,
     "metadata": {},
     "output_type": "execute_result"
    }
   ],
   "source": [
    "res8[0] #Eigenvalues"
   ]
  },
  {
   "cell_type": "code",
   "execution_count": 42,
   "id": "dc0acd7f-a445-42a3-8e80-1b3017167ca6",
   "metadata": {},
   "outputs": [
    {
     "data": {
      "text/plain": [
       "array([[-0.62048859, -0.50458562, -0.52452119],\n",
       "       [-0.62920975,  0.86241531, -0.16442973],\n",
       "       [-0.46806944, -0.04041271,  0.83536841]])"
      ]
     },
     "execution_count": 42,
     "metadata": {},
     "output_type": "execute_result"
    }
   ],
   "source": [
    "res8[1] #Eigenvectors"
   ]
  },
  {
   "cell_type": "markdown",
   "id": "785ca9d6-c974-460e-85b3-af70a83a669b",
   "metadata": {},
   "source": [
    "# 9 Find missing values"
   ]
  },
  {
   "cell_type": "code",
   "execution_count": 119,
   "id": "238fcd64-7fc5-423e-8c56-5597d273b105",
   "metadata": {},
   "outputs": [
    {
     "data": {
      "text/plain": [
       "array([[43., 54., 48., 13., 98.],\n",
       "       [85.,  7., 58., 15., 36.],\n",
       "       [51., 33., 22., 71., 57.],\n",
       "       [42., 27., 23., 31., 51.],\n",
       "       [56., 82., 55., 86., 11.]])"
      ]
     },
     "execution_count": 119,
     "metadata": {},
     "output_type": "execute_result"
    }
   ],
   "source": [
    "data9 = data[:]\n",
    "data9 = data9.astype('float64')\n",
    "data9"
   ]
  },
  {
   "cell_type": "code",
   "execution_count": 120,
   "id": "99903058-0afc-4675-bf78-ab87cfe8006c",
   "metadata": {},
   "outputs": [],
   "source": [
    "data9[np.random.randint(0, 5)][np.random.randint(0, 5)] = np.nan\n",
    "data9[np.random.randint(0, 5)][np.random.randint(0, 5)] = np.nan\n",
    "data9[np.random.randint(0, 5)][np.random.randint(0, 5)] = np.nan\n",
    "data9[np.random.randint(0, 5)][np.random.randint(0, 5)] = np.nan\n",
    "data9[np.random.randint(0, 5)][np.random.randint(0, 5)] = np.nan"
   ]
  },
  {
   "cell_type": "code",
   "execution_count": 121,
   "id": "44c69d79-8a8e-4086-9000-8480b5b0d3a1",
   "metadata": {},
   "outputs": [
    {
     "data": {
      "text/plain": [
       "array([[nan, 54., 48., nan, 98.],\n",
       "       [85.,  7., 58., nan, nan],\n",
       "       [51., 33., 22., nan, 57.],\n",
       "       [42., 27., 23., 31., 51.],\n",
       "       [56., 82., 55., 86., 11.]])"
      ]
     },
     "execution_count": 121,
     "metadata": {},
     "output_type": "execute_result"
    }
   ],
   "source": [
    "data9"
   ]
  },
  {
   "cell_type": "code",
   "execution_count": 122,
   "id": "c7e3c903-e719-4bbb-ade0-df306256aaf1",
   "metadata": {},
   "outputs": [
    {
     "data": {
      "text/plain": [
       "array([[0, 0],\n",
       "       [0, 3],\n",
       "       [1, 3],\n",
       "       [1, 4],\n",
       "       [2, 3]], dtype=int64)"
      ]
     },
     "execution_count": 122,
     "metadata": {},
     "output_type": "execute_result"
    }
   ],
   "source": [
    "np.argwhere(np.isnan(data9))"
   ]
  },
  {
   "cell_type": "code",
   "execution_count": 123,
   "id": "826d69ab-2d1f-4d9c-9686-c05b33846ff1",
   "metadata": {},
   "outputs": [
    {
     "data": {
      "text/plain": [
       "5"
      ]
     },
     "execution_count": 123,
     "metadata": {},
     "output_type": "execute_result"
    }
   ],
   "source": [
    "nan_count = np.count_nonzero(np.isnan(data9))\n",
    "nan_count"
   ]
  },
  {
   "cell_type": "markdown",
   "id": "b549f77d-690d-4def-bd8b-b1d290815107",
   "metadata": {},
   "source": [
    "# 10 Replace missing values"
   ]
  },
  {
   "cell_type": "code",
   "execution_count": 102,
   "id": "94cde902-d17c-47e0-b59a-c88b719427a9",
   "metadata": {},
   "outputs": [],
   "source": [
    "data10 = data9[:]"
   ]
  },
  {
   "cell_type": "code",
   "execution_count": 105,
   "id": "74db00a6-7dbd-4f5e-923d-5b87aa22f1d6",
   "metadata": {},
   "outputs": [
    {
     "data": {
      "text/plain": [
       "array([[43. , 54. , 48. , 13. , 98. ],\n",
       "       [46.2,  7. , 46.2, 15. , 36. ],\n",
       "       [46.2, 33. , 22. , 71. , 57. ],\n",
       "       [42. , 27. , 46.2, 31. , 46.2],\n",
       "       [56. , 82. , 55. , 86. , 11. ]])"
      ]
     },
     "execution_count": 105,
     "metadata": {},
     "output_type": "execute_result"
    }
   ],
   "source": [
    "mean_value = np.nanmean(data)\n",
    "data10[np.isnan(data10)] = mean_value\n",
    "data10"
   ]
  },
  {
   "cell_type": "code",
   "execution_count": null,
   "id": "fc15af53-5906-490a-82a2-c2c3e691c354",
   "metadata": {},
   "outputs": [],
   "source": []
  }
 ],
 "metadata": {
  "kernelspec": {
   "display_name": "Python 3 (ipykernel)",
   "language": "python",
   "name": "python3"
  },
  "language_info": {
   "codemirror_mode": {
    "name": "ipython",
    "version": 3
   },
   "file_extension": ".py",
   "mimetype": "text/x-python",
   "name": "python",
   "nbconvert_exporter": "python",
   "pygments_lexer": "ipython3",
   "version": "3.11.3"
  }
 },
 "nbformat": 4,
 "nbformat_minor": 5
}
