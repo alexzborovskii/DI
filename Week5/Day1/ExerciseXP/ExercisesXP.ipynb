{
 "cells": [
  {
   "cell_type": "code",
   "execution_count": 2,
   "id": "45ce38b8-de0b-4bab-acb4-51b187c04943",
   "metadata": {},
   "outputs": [],
   "source": [
    "import numpy as np"
   ]
  },
  {
   "cell_type": "markdown",
   "id": "1f4b8b04-1bb8-48ce-9b18-ee99d5ca3d61",
   "metadata": {},
   "source": [
    "# EXERCISE 1"
   ]
  },
  {
   "cell_type": "markdown",
   "id": "c2780de0-b338-428f-ae28-df17db7c7e5a",
   "metadata": {
    "editable": true,
    "slideshow": {
     "slide_type": ""
    },
    "tags": []
   },
   "source": [
    "## 2"
   ]
  },
  {
   "cell_type": "code",
   "execution_count": 3,
   "id": "d8fe243b-ca9e-4cc0-93d6-38bc1320379c",
   "metadata": {},
   "outputs": [
    {
     "data": {
      "text/plain": [
       "array([0., 0., 0., 0., 0., 0., 0., 0., 0., 0.])"
      ]
     },
     "execution_count": 3,
     "metadata": {},
     "output_type": "execute_result"
    }
   ],
   "source": [
    "arr1 = np.zeros(10)\n",
    "arr1"
   ]
  },
  {
   "cell_type": "markdown",
   "id": "ed4bfb73-c37c-47aa-bffa-c90459639627",
   "metadata": {},
   "source": [
    "## 3"
   ]
  },
  {
   "cell_type": "code",
   "execution_count": 3,
   "id": "32185d89-6ebe-48fd-932e-8f890a2d3acf",
   "metadata": {},
   "outputs": [
    {
     "data": {
      "text/plain": [
       "array([ 0,  1,  2,  3,  4,  5,  6,  7,  8,  9, 10, 11, 12, 13, 14, 15, 16,\n",
       "       17, 18, 19, 20, 21, 22, 23, 24, 25, 26, 27, 28, 29, 30, 31, 32, 33,\n",
       "       34, 35, 36, 37, 38, 39, 40, 41, 42, 43, 44, 45, 46, 47, 48, 49])"
      ]
     },
     "execution_count": 3,
     "metadata": {},
     "output_type": "execute_result"
    }
   ],
   "source": [
    "arr2 = np.arange(0, 50)\n",
    "arr2"
   ]
  },
  {
   "cell_type": "code",
   "execution_count": 15,
   "id": "5364cd04-5436-4536-82f3-a375e58526d4",
   "metadata": {},
   "outputs": [],
   "source": [
    "arr_el_size = arr2.itemsize"
   ]
  },
  {
   "cell_type": "code",
   "execution_count": 19,
   "id": "9741db2d-8dbf-45a1-a55a-c5295103a75a",
   "metadata": {},
   "outputs": [],
   "source": [
    "arr_type = arr2[0].dtype"
   ]
  },
  {
   "cell_type": "code",
   "execution_count": 17,
   "id": "b1e9309e-367d-4391-bf01-bfbaf0c3aafc",
   "metadata": {},
   "outputs": [],
   "source": [
    "arr_size = arr2[0].itemsize * 50"
   ]
  },
  {
   "cell_type": "code",
   "execution_count": 20,
   "id": "509580d2-f11e-4cfd-a13b-a5fa1196fdb6",
   "metadata": {},
   "outputs": [
    {
     "name": "stdout",
     "output_type": "stream",
     "text": [
      "\"200\" is list size with element size = 4 for items elements of int32 \n"
     ]
    }
   ],
   "source": [
    "print(f'\"{arr_size}\" is list size with element size = {arr_el_size} for items elements of {arr_type} ')"
   ]
  },
  {
   "cell_type": "markdown",
   "id": "8017a27c-5034-48e6-80ce-9953a06d6b49",
   "metadata": {},
   "source": [
    "# 4"
   ]
  },
  {
   "cell_type": "code",
   "execution_count": 30,
   "id": "5e475c86-3305-462e-9487-3e407247a15f",
   "metadata": {},
   "outputs": [
    {
     "name": "stdout",
     "output_type": "stream",
     "text": [
      "add(x1, x2, /, out=None, *, where=True, casting='same_kind', order='K', dtype=None, subok=True[, signature, extobj])\n",
      "\n",
      "Add arguments element-wise.\n",
      "\n",
      "Parameters\n",
      "----------\n",
      "x1, x2 : array_like\n",
      "    The arrays to be added.\n",
      "    If ``x1.shape != x2.shape``, they must be broadcastable to a common\n",
      "    shape (which becomes the shape of the output).\n",
      "out : ndarray, None, or tuple of ndarray and None, optional\n",
      "    A location into which the result is stored. If provided, it must have\n",
      "    a shape that the inputs broadcast to. If not provided or None,\n",
      "    a freshly-allocated array is returned. A tuple (possible only as a\n",
      "    keyword argument) must have length equal to the number of outputs.\n",
      "where : array_like, optional\n",
      "    This condition is broadcast over the input. At locations where the\n",
      "    condition is True, the `out` array will be set to the ufunc result.\n",
      "    Elsewhere, the `out` array will retain its original value.\n",
      "    Note that if an uninitialized `out` array is created via the default\n",
      "    ``out=None``, locations within it where the condition is False will\n",
      "    remain uninitialized.\n",
      "**kwargs\n",
      "    For other keyword-only arguments, see the\n",
      "    :ref:`ufunc docs <ufuncs.kwargs>`.\n",
      "\n",
      "Returns\n",
      "-------\n",
      "add : ndarray or scalar\n",
      "    The sum of `x1` and `x2`, element-wise.\n",
      "    This is a scalar if both `x1` and `x2` are scalars.\n",
      "\n",
      "Notes\n",
      "-----\n",
      "Equivalent to `x1` + `x2` in terms of array broadcasting.\n",
      "\n",
      "Examples\n",
      "--------\n",
      ">>> np.add(1.0, 4.0)\n",
      "5.0\n",
      ">>> x1 = np.arange(9.0).reshape((3, 3))\n",
      ">>> x2 = np.arange(3.0)\n",
      ">>> np.add(x1, x2)\n",
      "array([[  0.,   2.,   4.],\n",
      "       [  3.,   5.,   7.],\n",
      "       [  6.,   8.,  10.]])\n",
      "\n",
      "The ``+`` operator can be used as a shorthand for ``np.add`` on ndarrays.\n",
      "\n",
      ">>> x1 = np.arange(9.0).reshape((3, 3))\n",
      ">>> x2 = np.arange(3.0)\n",
      ">>> x1 + x2\n",
      "array([[ 0.,  2.,  4.],\n",
      "       [ 3.,  5.,  7.],\n",
      "       [ 6.,  8., 10.]])\n"
     ]
    }
   ],
   "source": [
    "np.info(np. add)"
   ]
  },
  {
   "cell_type": "markdown",
   "id": "94b8b71d-8754-49e3-a0bb-3ddd4803b903",
   "metadata": {},
   "source": [
    "## 5"
   ]
  },
  {
   "cell_type": "code",
   "execution_count": 24,
   "id": "89174469-6e6b-4c12-b04d-fd408fdd8366",
   "metadata": {},
   "outputs": [
    {
     "data": {
      "text/plain": [
       "array([10, 11, 12, 13, 14, 15, 16, 17, 18, 19, 20, 21, 22, 23, 24, 25, 26,\n",
       "       27, 28, 29, 30, 31, 32, 33, 34, 35, 36, 37, 38, 39, 40, 41, 42, 43,\n",
       "       44, 45, 46, 47, 48, 49])"
      ]
     },
     "execution_count": 24,
     "metadata": {},
     "output_type": "execute_result"
    }
   ],
   "source": [
    "arr5 = np.arange(10, 50)\n",
    "arr5"
   ]
  },
  {
   "cell_type": "markdown",
   "id": "ad610351-9108-4bcb-93ea-ac12d278169e",
   "metadata": {},
   "source": [
    "## 6"
   ]
  },
  {
   "cell_type": "code",
   "execution_count": 25,
   "id": "8d469097-0247-42a2-846f-d6aa57aa3ec3",
   "metadata": {},
   "outputs": [
    {
     "data": {
      "text/plain": [
       "array([49, 48, 47, 46, 45, 44, 43, 42, 41, 40, 39, 38, 37, 36, 35, 34, 33,\n",
       "       32, 31, 30, 29, 28, 27, 26, 25, 24, 23, 22, 21, 20, 19, 18, 17, 16,\n",
       "       15, 14, 13, 12, 11, 10])"
      ]
     },
     "execution_count": 25,
     "metadata": {},
     "output_type": "execute_result"
    }
   ],
   "source": [
    "arr5_rev = arr5[::-1]\n",
    "arr5_rev"
   ]
  },
  {
   "cell_type": "markdown",
   "id": "65ec79e3-569d-4f34-82e2-560f5065e5ad",
   "metadata": {},
   "source": [
    "## 7"
   ]
  },
  {
   "cell_type": "code",
   "execution_count": 29,
   "id": "d80b24a5-1a29-4c9f-bf19-58bdf0ba0121",
   "metadata": {},
   "outputs": [
    {
     "data": {
      "text/plain": [
       "array([[0, 1, 2],\n",
       "       [3, 4, 5],\n",
       "       [6, 7, 8]])"
      ]
     },
     "execution_count": 29,
     "metadata": {},
     "output_type": "execute_result"
    }
   ],
   "source": [
    "arr7 = np.arange(0,9).reshape(3, 3)\n",
    "arr7"
   ]
  },
  {
   "cell_type": "markdown",
   "id": "31f2866c-159a-4ca3-99b5-ec07c92ed0b4",
   "metadata": {},
   "source": [
    "## 8"
   ]
  },
  {
   "cell_type": "code",
   "execution_count": 34,
   "id": "ef7ea2e4-79f4-46a9-9917-df2481b68b33",
   "metadata": {},
   "outputs": [
    {
     "data": {
      "text/plain": [
       "(array([0, 1, 4], dtype=int64),)"
      ]
     },
     "execution_count": 34,
     "metadata": {},
     "output_type": "execute_result"
    }
   ],
   "source": [
    "arr8 = np.array([1,2,0,0,4,0])\n",
    "not_0 = np.nonzero(arr8)\n",
    "not_0"
   ]
  },
  {
   "cell_type": "markdown",
   "id": "2bf41466-7d6f-47f6-9f5f-630992ee4fa1",
   "metadata": {},
   "source": [
    "## 9"
   ]
  },
  {
   "cell_type": "code",
   "execution_count": 35,
   "id": "d2964303-a44c-43af-bfe5-e7ecce08186a",
   "metadata": {},
   "outputs": [
    {
     "data": {
      "text/plain": [
       "array([[1., 0., 0.],\n",
       "       [0., 1., 0.],\n",
       "       [0., 0., 1.]])"
      ]
     },
     "execution_count": 35,
     "metadata": {},
     "output_type": "execute_result"
    }
   ],
   "source": [
    "arr9 = np.eye(3)\n",
    "arr9"
   ]
  },
  {
   "cell_type": "markdown",
   "id": "366075dd-c622-4dcf-9ad6-564b751158ef",
   "metadata": {},
   "source": [
    "# 10"
   ]
  },
  {
   "cell_type": "code",
   "execution_count": 97,
   "id": "2a809ba4-de99-463a-ad69-594a2d73a5bf",
   "metadata": {},
   "outputs": [
    {
     "data": {
      "text/plain": [
       "array([[0., 1., 2., 3., 4.],\n",
       "       [0., 1., 2., 3., 4.],\n",
       "       [0., 1., 2., 3., 4.],\n",
       "       [0., 1., 2., 3., 4.],\n",
       "       [0., 1., 2., 3., 4.]])"
      ]
     },
     "execution_count": 97,
     "metadata": {},
     "output_type": "execute_result"
    }
   ],
   "source": [
    "arr10 = np.full((5,5), np.arange(0,5, dtype = 'float'))\n",
    "arr10"
   ]
  },
  {
   "cell_type": "markdown",
   "id": "7b962be6-f581-4611-9fcb-543f38317248",
   "metadata": {},
   "source": [
    "# 11"
   ]
  },
  {
   "cell_type": "code",
   "execution_count": 70,
   "id": "d6660bea-c14d-436c-8932-cf9e71a152b4",
   "metadata": {},
   "outputs": [
    {
     "data": {
      "text/plain": [
       "array([0.09090909, 0.18181818, 0.27272727, 0.36363636, 0.45454545,\n",
       "       0.54545455, 0.63636364, 0.72727273, 0.81818182, 0.90909091])"
      ]
     },
     "execution_count": 70,
     "metadata": {},
     "output_type": "execute_result"
    }
   ],
   "source": [
    "arr11 = np.linspace(0, 1, 12)[1:-1]\n",
    "arr11"
   ]
  },
  {
   "cell_type": "markdown",
   "id": "a62c45dc-f217-4ebd-a3a1-2f5562c390da",
   "metadata": {},
   "source": [
    "# 12"
   ]
  },
  {
   "cell_type": "code",
   "execution_count": 61,
   "id": "3575fa90-922d-4610-80f9-76457759467f",
   "metadata": {},
   "outputs": [
    {
     "data": {
      "text/plain": [
       "array([[[0.53665184, 0.2669819 , 0.1675873 , 0.11660008, 0.6896671 ,\n",
       "         0.33396205, 0.5849341 , 0.42305755, 0.33879697, 0.13232198]]])"
      ]
     },
     "execution_count": 61,
     "metadata": {},
     "output_type": "execute_result"
    }
   ],
   "source": [
    "arr12 = np.random.rand(1, 1, 10)\n",
    "arr12"
   ]
  },
  {
   "cell_type": "code",
   "execution_count": 62,
   "id": "cb30c39a-81b7-42fc-a1b4-035fbd2df400",
   "metadata": {},
   "outputs": [
    {
     "data": {
      "text/plain": [
       "array([[[0.11660008, 0.13232198, 0.1675873 , 0.2669819 , 0.33396205,\n",
       "         0.33879697, 0.42305755, 0.53665184, 0.5849341 , 0.6896671 ]]])"
      ]
     },
     "execution_count": 62,
     "metadata": {},
     "output_type": "execute_result"
    }
   ],
   "source": [
    "np.sort(arr12)"
   ]
  },
  {
   "cell_type": "markdown",
   "id": "a36a2dd0-cf90-4360-baab-0cddc195d724",
   "metadata": {},
   "source": [
    "# 13"
   ]
  },
  {
   "cell_type": "code",
   "execution_count": 77,
   "id": "e5876692-a7c7-44be-92bd-99cae705f9a1",
   "metadata": {},
   "outputs": [
    {
     "name": "stdout",
     "output_type": "stream",
     "text": [
      "-128 127\n",
      "-2147483648 2147483647\n",
      "-9223372036854775808 9223372036854775807\n",
      "-3.4028235e+38 3.4028235e+38\n",
      "-1.7976931348623157e+308 1.7976931348623157e+308\n"
     ]
    }
   ],
   "source": [
    "for dtype in [np.int8, np.int32, np.int64]:\n",
    "   print(np.iinfo(dtype).min, end = \" \")\n",
    "   print(np.iinfo(dtype).max)\n",
    "for dtype in [np.float32, np.float64]:\n",
    "   print(np.finfo(dtype).min, end = \" \")\n",
    "   print(np.finfo(dtype).max)"
   ]
  },
  {
   "cell_type": "markdown",
   "id": "fb6668f1-a47d-4248-93ba-9acbeb8b91af",
   "metadata": {},
   "source": [
    "# 14"
   ]
  },
  {
   "cell_type": "code",
   "execution_count": 80,
   "id": "9e5d3c99-d3f7-4763-840f-79973822860d",
   "metadata": {},
   "outputs": [
    {
     "data": {
      "text/plain": [
       "array([0., 1., 2., 3., 4., 5., 6., 7., 8., 9.], dtype=float32)"
      ]
     },
     "execution_count": 80,
     "metadata": {},
     "output_type": "execute_result"
    }
   ],
   "source": [
    "arr14_float = np.arange(10, dtype = 'float32')\n",
    "arr14"
   ]
  },
  {
   "cell_type": "code",
   "execution_count": 87,
   "id": "c5845f8d-8ac1-4b83-a687-4e0df3de9d90",
   "metadata": {},
   "outputs": [
    {
     "data": {
      "text/plain": [
       "dtype('int32')"
      ]
     },
     "execution_count": 87,
     "metadata": {},
     "output_type": "execute_result"
    }
   ],
   "source": [
    "arr14_int = arr14_float.astype('int32')\n",
    "arr14_int.dtype"
   ]
  },
  {
   "cell_type": "markdown",
   "id": "157e3761-22c7-47dc-bd26-a1ad3bb342c0",
   "metadata": {},
   "source": [
    "# 15"
   ]
  },
  {
   "cell_type": "code",
   "execution_count": 90,
   "id": "1bd77023-020d-4ffe-b59a-c10de3364367",
   "metadata": {},
   "outputs": [
    {
     "data": {
      "text/plain": [
       "array([[4, 1, 8, 6, 4],\n",
       "       [2, 3, 4, 2, 3],\n",
       "       [6, 6, 4, 8, 4]])"
      ]
     },
     "execution_count": 90,
     "metadata": {},
     "output_type": "execute_result"
    }
   ],
   "source": [
    "arr15 = np.random.randint(1, 10, 15).reshape(3, 5)\n",
    "arr15"
   ]
  },
  {
   "cell_type": "code",
   "execution_count": 99,
   "id": "a5744ed0-149d-4299-a0d4-ec66028cd55b",
   "metadata": {},
   "outputs": [
    {
     "data": {
      "text/plain": [
       "array([4.6, 2.8, 5.6])"
      ]
     },
     "execution_count": 99,
     "metadata": {},
     "output_type": "execute_result"
    }
   ],
   "source": [
    "res15 = np.mean(arr15, axis=1)\n",
    "res15"
   ]
  },
  {
   "cell_type": "markdown",
   "id": "222caab9-132e-4b90-a8be-41c8bc1e8976",
   "metadata": {},
   "source": [
    "# 16"
   ]
  },
  {
   "cell_type": "code",
   "execution_count": 100,
   "id": "8dc8d51b-1275-4169-b648-0ebab3c7fc67",
   "metadata": {},
   "outputs": [
    {
     "data": {
      "text/plain": [
       "array([[3, 7, 2, 7, 5],\n",
       "       [8, 1, 3, 3, 7],\n",
       "       [8, 7, 5, 1, 2]])"
      ]
     },
     "execution_count": 100,
     "metadata": {},
     "output_type": "execute_result"
    }
   ],
   "source": [
    "arr16 = np.random.randint(1, 10, 15).reshape(3, 5)\n",
    "arr16"
   ]
  },
  {
   "cell_type": "code",
   "execution_count": 113,
   "id": "5f51f37c-a47b-40d6-b00f-4c94d1e09bd3",
   "metadata": {},
   "outputs": [
    {
     "data": {
      "text/plain": [
       "array([[8, 1, 3, 3, 7],\n",
       "       [3, 7, 2, 7, 5],\n",
       "       [8, 7, 5, 1, 2]])"
      ]
     },
     "execution_count": 113,
     "metadata": {},
     "output_type": "execute_result"
    }
   ],
   "source": [
    "res16 = arr16[arr16[:,1].argsort()]\n",
    "res16"
   ]
  },
  {
   "cell_type": "markdown",
   "id": "746c8134-9914-4c01-85b7-ede1d876910c",
   "metadata": {},
   "source": [
    "# 17"
   ]
  },
  {
   "cell_type": "code",
   "execution_count": 114,
   "id": "793b8ca4-f386-44ec-a50f-3f2b44b1dad6",
   "metadata": {},
   "outputs": [
    {
     "data": {
      "text/plain": [
       "array([[1, 3, 6, 4, 6],\n",
       "       [3, 6, 4, 2, 2],\n",
       "       [5, 9, 1, 8, 5]])"
      ]
     },
     "execution_count": 114,
     "metadata": {},
     "output_type": "execute_result"
    }
   ],
   "source": [
    "arr17 = np.random.randint(1, 10, 15).reshape(3, 5)\n",
    "arr17"
   ]
  },
  {
   "cell_type": "code",
   "execution_count": 121,
   "id": "368c15b1-0b96-4fb1-a17c-07ea56f12f72",
   "metadata": {},
   "outputs": [
    {
     "data": {
      "text/plain": [
       "array([[5, 9, 1, 8, 5],\n",
       "       [3, 6, 4, 2, 2],\n",
       "       [1, 3, 6, 4, 6]])"
      ]
     },
     "execution_count": 121,
     "metadata": {},
     "output_type": "execute_result"
    }
   ],
   "source": [
    "arr17[[2, 0]] = arr17[[0, 2]]\n",
    "arr17"
   ]
  },
  {
   "cell_type": "markdown",
   "id": "0077cb80-7ef0-4253-a914-e94349db4cc8",
   "metadata": {},
   "source": [
    "# 18"
   ]
  },
  {
   "cell_type": "code",
   "execution_count": 124,
   "id": "e4a78c38-cc78-465a-b49a-4a221ec52960",
   "metadata": {},
   "outputs": [
    {
     "data": {
      "text/plain": [
       "array([0, 0, 1, 1, 1, 2])"
      ]
     },
     "execution_count": 124,
     "metadata": {},
     "output_type": "execute_result"
    }
   ],
   "source": [
    "np.repeat([0, 1, 2], [2, 3, 1])"
   ]
  }
 ],
 "metadata": {
  "kernelspec": {
   "display_name": "Python 3 (ipykernel)",
   "language": "python",
   "name": "python3"
  },
  "language_info": {
   "codemirror_mode": {
    "name": "ipython",
    "version": 3
   },
   "file_extension": ".py",
   "mimetype": "text/x-python",
   "name": "python",
   "nbconvert_exporter": "python",
   "pygments_lexer": "ipython3",
   "version": "3.11.3"
  }
 },
 "nbformat": 4,
 "nbformat_minor": 5
}
